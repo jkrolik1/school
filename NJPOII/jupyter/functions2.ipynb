{
 "cells": [
  {
   "cell_type": "markdown",
   "metadata": {
    "pycharm": {
     "name": "#%% md\n"
    }
   },
   "source": [
    "\n",
    "## Zadania do wykonania\n",
    "\n",
    "### Zadanie 1\n",
    "\n",
    "Napisz dekorator, który autoryzuje użytkownika na podstawie podanego loginu i hasła. Do przechowywania danych należy wykorzystać klasę `shelve`. Do maskowania hasła można użyć następującej funkcji:"
   ]
  },
  {
   "cell_type": "code",
   "execution_count": 36,
   "metadata": {
    "pycharm": {
     "name": "#%%\n"
    }
   },
   "outputs": [
    {
     "data": {
      "text/plain": [
       "'82fb8b5b78df658498f0a67e88db93a3a5b09788396e956a434ed34b9ff265b1fbe61093d3e567ecb490ea6ec8655b8d23e096dba46665026a5d039d785494d8196c142236a94d0a5e31d7f417eb1081d2310fa88789f6792a57ece2ce48ca5c'"
      ]
     },
     "execution_count": 36,
     "metadata": {},
     "output_type": "execute_result"
    }
   ],
   "source": [
    "import hashlib, binascii\n",
    "from os import urandom\n",
    "\n",
    "def hash_password(password):\n",
    "    \"\"\"Hash a password for storing.\"\"\"\n",
    "    salt = hashlib.sha256(urandom(60)).hexdigest().encode('ascii')\n",
    "    pwdhash = hashlib.pbkdf2_hmac('sha512', password.encode('utf-8'),\n",
    "                                salt, 100000)\n",
    "    pwdhash = binascii.hexlify(pwdhash)\n",
    "    return (salt + pwdhash).decode('ascii')\n",
    "\n",
    "hash_password('test')"
   ]
  },
  {
   "cell_type": "markdown",
   "metadata": {
    "pycharm": {
     "name": "#%% md\n"
    }
   },
   "source": [
    "Należy pamiętać, że `salt` należy utworzyć raz i zachować w chronionym pliku.\n",
    "\n",
    "### Zadanie 2\n",
    "\n",
    "Napisz dekorator, który ogranicza argument funkcji do zadanego przedziału.\n",
    "\n",
    "### Zadanie 3\n",
    "\n",
    "Napisz generator, który dla zadanego wielomianu i przedziału wartości, zwróci jego miejsca zerowe. Dla pierwszego wywołania wynikiem ma być pierwsze miejsce zerowe, dla drugiego, drugie itd. Można zastosować naiwny algorytm sprawdzający kolejne wartości wielomianu. Można również zastosować kodowanie wielomianu bezpośrednio w kodzie języka Python: `x**n*x**(n-1)`."
   ]
  },
  {
   "cell_type": "code",
   "execution_count": 13,
   "metadata": {},
   "outputs": [],
   "source": [
    "@getHashPassword\n",
    "def authorization(h1,h2):\n",
    "    shelf = openShelve(\"myDb\")\n",
    "    try:\n",
    "        passWd = shelf[login]\n",
    "        print(passWd)\n",
    "    except Exception as e:\n",
    "        print('There is no user with this login:',login)\n",
    "    finally:\n",
    "        closeShelve(shelf)"
   ]
  },
  {
   "cell_type": "code",
   "execution_count": 108,
   "metadata": {},
   "outputs": [
    {
     "name": "stdout",
     "output_type": "stream",
     "text": [
      "4389508ca90ade1ac28e64ac4cbac3f2982332b4f6db719af0e9acfb9e1d44405fc83ab9e979055fa877f802e8c4dab88c714b3b419d075227f6584cacf578f4b432a7207dfa8fc27645c04a2ee94d6f025cbfc3a286837345e9521f80fc3572\n"
     ]
    }
   ],
   "source": [
    "import shelve\n",
    "import hashlib, binascii\n",
    "from os import urandom\n",
    "\n",
    "def openShelve(name):\n",
    "    return shelve.open(name)\n",
    "def closeShelve(name2):\n",
    "    name2.close()\n",
    "    \n",
    "def getHashPassword(fun):\n",
    "    def hash_password(passW):\n",
    "        salt = hashlib.sha256(urandom(60)).hexdigest().encode('ascii')\n",
    "        pwdhash = hashlib.pbkdf2_hmac('sha512', passW.encode('utf-8'), salt, 100000)\n",
    "        pwdhash = binascii.hexlify(pwdhash)\n",
    "        \n",
    "        fun((salt + pwdhash).decode('ascii'))\n",
    "\n",
    "    return hash_password\n",
    "\n",
    "\n",
    "@getHashPassword\n",
    "def addPass(passW):\n",
    "    shelf = openShelve(\"myDb\")\n",
    "    \n",
    "    print(passW)\n",
    "    \n",
    "    closeShelve(shelf)\n",
    "    \n",
    "\n",
    "addPass(\"haslo\")\n",
    "# authorization(\"useer2\",\"mypassw\")"
   ]
  },
  {
   "cell_type": "code",
   "execution_count": 46,
   "metadata": {},
   "outputs": [
    {
     "name": "stdout",
     "output_type": "stream",
     "text": [
      "b'2629b1a56e60ea2bfea40ce8267373d92cbae0dbea802f184f17ba60fa494068'\n"
     ]
    }
   ],
   "source": [
    "import shelve\n",
    "import hashlib, binascii\n",
    "from os import urandom\n",
    "\n",
    "def openShelve(name):\n",
    "    return shelve.open(name)\n",
    "def closeShelve(name2):\n",
    "    name2.close()\n",
    "def getSalt():\n",
    "    salt = hashlib.sha256(urandom(60)).hexdigest().encode('ascii')  \n",
    "    return salt\n",
    "def x(login):\n",
    "    shelf = openShelve(\"myDb\")\n",
    "    \n",
    "    try:\n",
    "        salt2 = shelf[login]\n",
    "    except Exception as e:\n",
    "        print('error')\n",
    "\n",
    "    closeShelve(shelf)\n",
    "\n",
    "print(getSalt())\n",
    "    \n",
    "def getHashPassword(fun):\n",
    "    def unhash_password(login,passW):\n",
    "        salt = x(login)\n",
    "        pwdhash = hashlib.pbkdf2_hmac('sha512', passW.encode('utf-8'), salt, 100000)\n",
    "        pwdhash = binascii.hexlify(pwdhash)\n",
    "        \n",
    "        fun((salt + pwdhash).decode('ascii'))\n",
    "\n",
    "    return unhash_password\n",
    "\n",
    "\n",
    "\n",
    "\n",
    "\n",
    "\n",
    "\n",
    "\n",
    "    \n",
    "#x('x','hjl')\n",
    "#authorization('login','haslo')"
   ]
  },
  {
   "cell_type": "code",
   "execution_count": null,
   "metadata": {},
   "outputs": [],
   "source": [
    "# add\n",
    "\n",
    "\n",
    "@getHashPassword\n",
    "def x(login,passW):\n",
    "    shelf = openShelve(\"myDb\")\n",
    "    \n",
    "    try:\n",
    "        passWd = shelf['y']\n",
    "        print('error')\n",
    "    except Exception as e:\n",
    "        shelf['y'] = passW\n",
    "    \n",
    "    \n",
    "    closeShelve(shelf)\n",
    "    \n",
    "#x('test')\n",
    "#authorization('login','haslo')"
   ]
  },
  {
   "cell_type": "code",
   "execution_count": 42,
   "metadata": {},
   "outputs": [
    {
     "name": "stdout",
     "output_type": "stream",
     "text": [
      "0b6f5e3751ff8659317a3de2a63fb194f62cdb88d9c30ea359ac3260d9dd99ef0844db1c65185c3a10c0b8d45da07ce35f3788f79c2c32dd944e78c22fd55a0eab64b4ef443aded3750b3abbe75a96ed9076160937aacc590cd245bea90367c9\n",
      "zdsacfsddsgd\n",
      "0b6f5e3751ff8659317a3de2a63fb194f62cdb88d9c30ea359ac3260d9dd99ef0844db1c65185c3a10c0b8d45da07ce35f3788f79c2c32dd944e78c22fd55a0eab64b4ef443aded3750b3abbe75a96ed9076160937aacc590cd245bea90367c9\n",
      "0b6f5e3751ff8659317a3de2a63fb194f62cdb88d9c30ea359ac3260d9dd99ef0844db1c65185c3a10c0b8d45da07ce35f3788f79c2c32dd944e78c22fd55a0eab64b4ef443aded3750b3abbe75a96ed9076160937aacc590cd245bea90367c9\n",
      "0b6f5e3751ff8659317a3de2a63fb194f62cdb88d9c30ea359ac3260d9dd99ef0844db1c65185c3a10c0b8d45da07ce35f3788f79c2c32dd944e78c22fd55a0eab64b4ef443aded3750b3abbe75a96ed9076160937aacc590cd245bea90367c9\n"
     ]
    }
   ],
   "source": [
    "import hashlib, binascii\n",
    "from os import urandom\n",
    "\n",
    "salt = hashlib.sha256(urandom(60)).hexdigest().encode('ascii')\n",
    "\n",
    "def hash_password(password,salt):\n",
    "    \"\"\"Hash a password for storing.\"\"\"\n",
    "    \n",
    "    pwdhash = hashlib.pbkdf2_hmac('sha512', password.encode('utf-8'),\n",
    "                                salt, 100000)\n",
    "    pwdhash = binascii.hexlify(pwdhash)\n",
    "    print((salt + pwdhash).decode('ascii'))\n",
    "\n",
    "hash_password('test',salt)\n",
    "hash_password('test',salt)\n",
    "hash_password('test',salt)\n",
    "hash_password('test',salt)"
   ]
  },
  {
   "cell_type": "code",
   "execution_count": 138,
   "metadata": {
    "scrolled": true
   },
   "outputs": [
    {
     "name": "stdout",
     "output_type": "stream",
     "text": [
      "You are logged to system!\n"
     ]
    }
   ],
   "source": [
    "import shelve\n",
    "import hashlib, binascii\n",
    "from os import urandom\n",
    "import functools\n",
    "\n",
    "def openShelve(name):\n",
    "    return shelve.open(name)\n",
    "def closeShelve(name2):\n",
    "    name2.close()\n",
    "def getSalt():\n",
    "    salt = hashlib.sha256(urandom(60)).hexdigest().encode('ascii')  \n",
    "    return salt\n",
    "def generateSalt():\n",
    "    shelf = openShelve(\"salt\")\n",
    "    try:\n",
    "        salt2 = shelf['salt']\n",
    "        print('error')\n",
    "        closeShelve(shelf)\n",
    "    except Exception as e:\n",
    "        shelf['salt'] = getSalt()\n",
    "        closeShelve(shelf)\n",
    "def hash_password(password):\n",
    "    shelf = openShelve(\"salt\")\n",
    "    salt = shelf['salt']\n",
    "    pwdhash = hashlib.pbkdf2_hmac('sha512', password.encode('utf-8'),\n",
    "                                salt, 100000)\n",
    "    pwdhash = binascii.hexlify(pwdhash)\n",
    "    return (salt + pwdhash).decode('ascii')\n",
    "def addUser(login,haslo):\n",
    "    shelf = openShelve(\"data\")\n",
    "    try:\n",
    "        log = shelf[login]\n",
    "        print('error')\n",
    "        closeShelve(shelf)\n",
    "    except Exception as e:\n",
    "        shelf[login] = hash_password(haslo)\n",
    "        closeShelve(shelf)\n",
    "    \n",
    "    \n",
    "def call_safe(func):\n",
    "    def wrapper(*args, **kwargs):\n",
    "        \n",
    "        x = 0\n",
    "        for arg in args:\n",
    "            if(x == 0):\n",
    "                login = arg\n",
    "            if(x == 1):\n",
    "                haslo = arg\n",
    "            x += 1\n",
    "            \n",
    "        shelf = openShelve(\"salt\")\n",
    "        shelf2 = openShelve(\"data\")\n",
    "        \n",
    "        try:\n",
    "            salt = shelf['salt']\n",
    "            password = shelf2[login]\n",
    "            \n",
    "            pwdhash = hashlib.pbkdf2_hmac('sha512', haslo.encode('utf-8'),\n",
    "                                salt, 100000)\n",
    "            pwdhash = binascii.hexlify(pwdhash)\n",
    "            \n",
    "            passWd = (salt + pwdhash).decode('ascii')\n",
    "            \n",
    "            if(password == passWd):\n",
    "                return func('true','true')\n",
    "            else:\n",
    "                return func('false','false')\n",
    "            \n",
    "        except Exception as e:\n",
    "            print('error')\n",
    "\n",
    "        return None\n",
    "\n",
    "    return wrapper\n",
    "\n",
    "@call_safe\n",
    "def base_func(login,haslo):\n",
    "    if((login == 'true')&(haslo == 'true')):\n",
    "        print('You are logged to system!')\n",
    "    else:\n",
    "        print('Uncorrect data!!!')\n",
    "\n",
    "    \n",
    "base_func('qwerty','zaq')\n",
    "#addUser('qwerty','zaq')"
   ]
  },
  {
   "cell_type": "code",
   "execution_count": 101,
   "metadata": {},
   "outputs": [
    {
     "name": "stdout",
     "output_type": "stream",
     "text": [
      "ghjghj\n",
      "error\n"
     ]
    }
   ],
   "source": [
    "import functools\n",
    "\n",
    "def call_safe(func):\n",
    "    def wrapper(*args, **kwargs):\n",
    "        try:\n",
    "            return func('ghjghj')\n",
    "        except Exception as e:\n",
    "            print('error')\n",
    "\n",
    "        return None\n",
    "\n",
    "    return wrapper\n",
    "\n",
    "@call_safe\n",
    "def base_func(par1):\n",
    "    print(par1)\n",
    "    raise Exception('Exception test')\n",
    "\n",
    "base_func('test')"
   ]
  },
  {
   "cell_type": "code",
   "execution_count": 110,
   "metadata": {},
   "outputs": [
    {
     "name": "stdout",
     "output_type": "stream",
     "text": [
      "error\n"
     ]
    }
   ],
   "source": [
    "import shelve\n",
    "import hashlib, binascii\n",
    "from os import urandom\n",
    "import functools\n",
    "\n",
    "def openShelve(name):\n",
    "    return shelve.open(name)\n",
    "def closeShelve(name2):\n",
    "    name2.close()\n",
    "def getSalt():\n",
    "    salt = hashlib.sha256(urandom(60)).hexdigest().encode('ascii')  \n",
    "    return salt\n",
    "def generateSalt():\n",
    "    shelf = openShelve(\"salt\")\n",
    "    try:\n",
    "        salt2 = shelf['salt']\n",
    "        print('error')\n",
    "        closeShelve(shelf)\n",
    "    except Exception as e:\n",
    "        shelf['salt'] = getSalt()\n",
    "        closeShelve(shelf)\n",
    "def hash_password(password):\n",
    "    shelf = openShelve(\"salt\")\n",
    "    pwdhash = hashlib.pbkdf2_hmac('sha512', password.encode('utf-8'),\n",
    "                                shelf['salt'], 100000)\n",
    "    pwdhash = binascii.hexlify(pwdhash)\n",
    "    return (salt + pwdhash).decode('ascii')\n",
    "def addUser(login,haslo):\n",
    "    shelf = openShelve(\"data\")\n",
    "    try:\n",
    "        log = shelf[login]\n",
    "        print('error')\n",
    "        closeShelve(shelf)\n",
    "    except Exception as e:\n",
    "        shelf[login] = hash_password(haslo)\n",
    "        closeShelve(shelf)\n",
    "    \n",
    "    \n",
    "def call_safe(func):\n",
    "    def wrapper(*args, **kwargs):\n",
    "        try:\n",
    "            return func(*args)\n",
    "        except Exception as e:\n",
    "            print('error')\n",
    "\n",
    "        return None\n",
    "\n",
    "    return wrapper\n",
    "\n",
    "@call_safe\n",
    "def base_func(par1,par2):\n",
    "    print(par1,par2)\n",
    "    raise Exception('Exception test')\n",
    "\n",
    "base_func('test')\n",
    "\n",
    "#addUser('xxx','yyy')"
   ]
  },
  {
   "cell_type": "code",
   "execution_count": null,
   "metadata": {},
   "outputs": [],
   "source": []
  }
 ],
 "metadata": {
  "kernelspec": {
   "display_name": "Python 3",
   "language": "python",
   "name": "python3"
  },
  "language_info": {
   "codemirror_mode": {
    "name": "ipython",
    "version": 3
   },
   "file_extension": ".py",
   "mimetype": "text/x-python",
   "name": "python",
   "nbconvert_exporter": "python",
   "pygments_lexer": "ipython3",
   "version": "3.8.5"
  }
 },
 "nbformat": 4,
 "nbformat_minor": 1
}
