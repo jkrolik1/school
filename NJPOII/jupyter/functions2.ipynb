{
 "cells": [
  {
   "cell_type": "markdown",
   "metadata": {
    "pycharm": {
     "name": "#%% md\n"
    }
   },
   "source": [
    "\n",
    "## Zadania do wykonania\n",
    "\n",
    "### Zadanie 1\n",
    "\n",
    "Napisz dekorator, który autoryzuje użytkownika na podstawie podanego loginu i hasła. Do przechowywania danych należy wykorzystać klasę `shelve`. Do maskowania hasła można użyć następującej funkcji:"
   ]
  },
  {
   "cell_type": "code",
   "execution_count": 36,
   "metadata": {
    "pycharm": {
     "name": "#%%\n"
    }
   },
   "outputs": [
    {
     "data": {
      "text/plain": [
       "'82fb8b5b78df658498f0a67e88db93a3a5b09788396e956a434ed34b9ff265b1fbe61093d3e567ecb490ea6ec8655b8d23e096dba46665026a5d039d785494d8196c142236a94d0a5e31d7f417eb1081d2310fa88789f6792a57ece2ce48ca5c'"
      ]
     },
     "execution_count": 36,
     "metadata": {},
     "output_type": "execute_result"
    }
   ],
   "source": [
    "import hashlib, binascii\n",
    "from os import urandom\n",
    "\n",
    "def hash_password(password):\n",
    "    \"\"\"Hash a password for storing.\"\"\"\n",
    "    salt = hashlib.sha256(urandom(60)).hexdigest().encode('ascii')\n",
    "    pwdhash = hashlib.pbkdf2_hmac('sha512', password.encode('utf-8'),\n",
    "                                salt, 100000)\n",
    "    pwdhash = binascii.hexlify(pwdhash)\n",
    "    return (salt + pwdhash).decode('ascii')\n",
    "\n",
    "hash_password('test')"
   ]
  },
  {
   "cell_type": "markdown",
   "metadata": {
    "pycharm": {
     "name": "#%% md\n"
    }
   },
   "source": [
    "Należy pamiętać, że `salt` należy utworzyć raz i zachować w chronionym pliku.\n",
    "\n",
    "### Zadanie 2\n",
    "\n",
    "Napisz dekorator, który ogranicza argument funkcji do zadanego przedziału.\n",
    "\n",
    "### Zadanie 3\n",
    "\n",
    "Napisz generator, który dla zadanego wielomianu i przedziału wartości, zwróci jego miejsca zerowe. Dla pierwszego wywołania wynikiem ma być pierwsze miejsce zerowe, dla drugiego, drugie itd. Można zastosować naiwny algorytm sprawdzający kolejne wartości wielomianu. Można również zastosować kodowanie wielomianu bezpośrednio w kodzie języka Python: `x**n*x**(n-1)`."
   ]
  },
  {
   "cell_type": "code",
   "execution_count": 104,
   "metadata": {
    "scrolled": true
   },
   "outputs": [
    {
     "name": "stdout",
     "output_type": "stream",
     "text": [
      "Enter youre login: user1\n",
      "Enter youre password: \n",
      "········\n",
      "You are logged in system!\n"
     ]
    }
   ],
   "source": [
    "# zadanie 1\n",
    "\n",
    "\n",
    "import shelve\n",
    "import hashlib, binascii\n",
    "from os import urandom\n",
    "import functools\n",
    "import getpass\n",
    "\n",
    "def openShelve(name):\n",
    "    return shelve.open(name)\n",
    "def closeShelve(name2):\n",
    "    name2.close()\n",
    "    \n",
    "def getSalt():\n",
    "    salt = hashlib.sha256(urandom(60)).hexdigest().encode('ascii')  \n",
    "    return salt\n",
    "def generateSalt():\n",
    "    shelf = openShelve(\"salt\")\n",
    "    try:\n",
    "        salt2 = shelf['salt']\n",
    "        print('error')\n",
    "        closeShelve(shelf)\n",
    "    except Exception as e:\n",
    "        shelf['salt'] = getSalt()\n",
    "        closeShelve(shelf)\n",
    "        \n",
    "def hash_password(password):\n",
    "    shelf = openShelve(\"salt\")\n",
    "    salt = shelf['salt']\n",
    "    pwdhash = hashlib.pbkdf2_hmac('sha512', password.encode('utf-8'),\n",
    "                                salt, 100000)\n",
    "    pwdhash = binascii.hexlify(pwdhash)\n",
    "    return (salt + pwdhash).decode('ascii')\n",
    "def addUser(login,haslo):\n",
    "    shelf = openShelve(\"data\")\n",
    "    try:\n",
    "        log = shelf[login]\n",
    "        print('The is has already created')\n",
    "        closeShelve(shelf)\n",
    "    except Exception as e:\n",
    "        shelf[login] = hash_password(haslo)\n",
    "        closeShelve(shelf)\n",
    "    \n",
    "    \n",
    "def call_safe(func):\n",
    "    def wrapper(*args, **kwargs):\n",
    "        \n",
    "        x = 0\n",
    "        for arg in args:\n",
    "            if(x == 0):\n",
    "                login = arg\n",
    "            if(x == 1):\n",
    "                haslo = arg\n",
    "            x += 1\n",
    "            \n",
    "        shelf = openShelve(\"salt\")\n",
    "        shelf2 = openShelve(\"data\")\n",
    "        \n",
    "        try:\n",
    "            salt = shelf['salt']\n",
    "            password = shelf2[login]\n",
    "            \n",
    "            pwdhash = hashlib.pbkdf2_hmac('sha512', haslo.encode('utf-8'),\n",
    "                                salt, 100000)\n",
    "            pwdhash = binascii.hexlify(pwdhash)\n",
    "            \n",
    "            passWd = (salt + pwdhash).decode('ascii')\n",
    "            \n",
    "            closeShelve(shelf)\n",
    "            closeShelve(shelf2)\n",
    "            \n",
    "            if(password == passWd):\n",
    "                return func(1,1)\n",
    "            else:\n",
    "                return func(0,0)\n",
    "            \n",
    "        except Exception as e:\n",
    "            print('There is no user with this login in system!')\n",
    "\n",
    "        return None\n",
    "\n",
    "    return wrapper\n",
    "\n",
    "@call_safe\n",
    "def base_func(login,haslo):\n",
    "    if(login & haslo):\n",
    "        print('You are logged in system!')\n",
    "    else:\n",
    "        print('Uncorrect login data!!!')\n",
    "\n",
    "\n",
    "# generateSalt()\n",
    "\n",
    "# addUser('user1','passw1')\n",
    "\n",
    "x = input('Enter youre login: ')\n",
    "print(f'Enter youre password: ')    \n",
    "y = getpass.getpass()\n",
    "base_func(x,y)\n",
    "\n"
   ]
  },
  {
   "cell_type": "code",
   "execution_count": 6,
   "metadata": {
    "scrolled": true
   },
   "outputs": [
    {
     "name": "stdout",
     "output_type": "stream",
     "text": [
      "Amount of elements: 3\n",
      "Element 1: 10000.1212121\n",
      "\tElement is above range\n",
      "\tWe wrote 100\n",
      "Element 2: 00\n",
      "\tWe wrote 0.0\n",
      "Element 3: -1212102.1973619873\n",
      "\tElement is below range\n",
      "\tWe wrote 0\n",
      "Elements [100, 0.0, 0]\n"
     ]
    }
   ],
   "source": [
    "# zadanie 2\n",
    "\n",
    "import functools\n",
    "\n",
    "def call_safe(func):\n",
    "    def wrapper(*args, **kwargs):\n",
    "        try:\n",
    "            for arg in args:\n",
    "                if(not(arg>=0)):\n",
    "                    print(f'\\tElement is below range')\n",
    "                    return func(0)\n",
    "                if(not(arg<=100)):\n",
    "                    print(f'\\tElement is above range')\n",
    "                    return func(100)\n",
    "                else: \n",
    "                    return func(*args, **kwargs)\n",
    "        except Exception as e:\n",
    "            print(f'error')\n",
    "\n",
    "        return None\n",
    "\n",
    "    return wrapper\n",
    "\n",
    "@call_safe\n",
    "def base_func(p):\n",
    "    print(f'\\tWe wrote {p}')\n",
    "    list1.append(p)\n",
    "\n",
    "\n",
    "list1 = []\n",
    "try:\n",
    "    x = input('Amount of elements: ')\n",
    "    for i in range(int(x)):\n",
    "        y = input(f'Element {i+1}: ')\n",
    "        base_func(float(y))\n",
    "except Exception as e:\n",
    "    print('NaN')\n",
    "    \n",
    "print(f'Elements {list1}')\n",
    "\n"
   ]
  },
  {
   "cell_type": "code",
   "execution_count": 95,
   "metadata": {
    "scrolled": true
   },
   "outputs": [
    {
     "name": "stdout",
     "output_type": "stream",
     "text": [
      "1: -31.0\n",
      "2: -2.0\n",
      "3: 0.0\n",
      "4: 2.0\n"
     ]
    }
   ],
   "source": [
    "# zadanie 3\n",
    "\n",
    "import math\n",
    "\n",
    "n = 4\n",
    "    \n",
    "def func():\n",
    "    x = -1000.00\n",
    "    while x < 1000:\n",
    "        c = eval('(x-2)*(x+31)*(6*x)*(x**2+2*x)')\n",
    "        if c==0:\n",
    "            yield x\n",
    "        x += 0.1\n",
    "        x = round(x,2)\n",
    "\n",
    "mygenerator = func()   \n",
    "\n",
    "g = 0\n",
    "for i in mygenerator:\n",
    "    print(f'{g+1}: {i}')\n",
    "    if g == n: break\n",
    "    g += 1\n",
    "    "
   ]
  }
 ],
 "metadata": {
  "kernelspec": {
   "display_name": "Python 3",
   "language": "python",
   "name": "python3"
  },
  "language_info": {
   "codemirror_mode": {
    "name": "ipython",
    "version": 3
   },
   "file_extension": ".py",
   "mimetype": "text/x-python",
   "name": "python",
   "nbconvert_exporter": "python",
   "pygments_lexer": "ipython3",
   "version": "3.8.5"
  }
 },
 "nbformat": 4,
 "nbformat_minor": 1
}
