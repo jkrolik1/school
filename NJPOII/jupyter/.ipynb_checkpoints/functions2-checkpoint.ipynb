{
 "cells": [
  {
   "cell_type": "markdown",
   "metadata": {
    "pycharm": {
     "name": "#%% md\n"
    }
   },
   "source": [
    "\n",
    "## Zadania do wykonania\n",
    "\n",
    "### Zadanie 1\n",
    "\n",
    "Napisz dekorator, który autoryzuje użytkownika na podstawie podanego loginu i hasła. Do przechowywania danych należy wykorzystać klasę `shelve`. Do maskowania hasła można użyć następującej funkcji:"
   ]
  },
  {
   "cell_type": "code",
   "execution_count": 36,
   "metadata": {
    "pycharm": {
     "name": "#%%\n"
    }
   },
   "outputs": [
    {
     "data": {
      "text/plain": [
       "'82fb8b5b78df658498f0a67e88db93a3a5b09788396e956a434ed34b9ff265b1fbe61093d3e567ecb490ea6ec8655b8d23e096dba46665026a5d039d785494d8196c142236a94d0a5e31d7f417eb1081d2310fa88789f6792a57ece2ce48ca5c'"
      ]
     },
     "execution_count": 36,
     "metadata": {},
     "output_type": "execute_result"
    }
   ],
   "source": [
    "import hashlib, binascii\n",
    "from os import urandom\n",
    "\n",
    "def hash_password(password):\n",
    "    \"\"\"Hash a password for storing.\"\"\"\n",
    "    salt = hashlib.sha256(urandom(60)).hexdigest().encode('ascii')\n",
    "    pwdhash = hashlib.pbkdf2_hmac('sha512', password.encode('utf-8'),\n",
    "                                salt, 100000)\n",
    "    pwdhash = binascii.hexlify(pwdhash)\n",
    "    return (salt + pwdhash).decode('ascii')\n",
    "\n",
    "hash_password('test')"
   ]
  },
  {
   "cell_type": "markdown",
   "metadata": {
    "pycharm": {
     "name": "#%% md\n"
    }
   },
   "source": [
    "Należy pamiętać, że `salt` należy utworzyć raz i zachować w chronionym pliku.\n",
    "\n",
    "### Zadanie 2\n",
    "\n",
    "Napisz dekorator, który ogranicza argument funkcji do zadanego przedziału.\n",
    "\n",
    "### Zadanie 3\n",
    "\n",
    "Napisz generator, który dla zadanego wielomianu i przedziału wartości, zwróci jego miejsca zerowe. Dla pierwszego wywołania wynikiem ma być pierwsze miejsce zerowe, dla drugiego, drugie itd. Można zastosować naiwny algorytm sprawdzający kolejne wartości wielomianu. Można również zastosować kodowanie wielomianu bezpośrednio w kodzie języka Python: `x**n*x**(n-1)`."
   ]
  },
  {
   "cell_type": "code",
   "execution_count": 13,
   "metadata": {},
   "outputs": [],
   "source": [
    "@getHashPassword\n",
    "def authorization(h1,h2):\n",
    "    shelf = openShelve(\"myDb\")\n",
    "    try:\n",
    "        passWd = shelf[login]\n",
    "        print(passWd)\n",
    "    except Exception as e:\n",
    "        print('There is no user with this login:',login)\n",
    "    finally:\n",
    "        closeShelve(shelf)"
   ]
  },
  {
   "cell_type": "code",
   "execution_count": 108,
   "metadata": {},
   "outputs": [
    {
     "name": "stdout",
     "output_type": "stream",
     "text": [
      "4389508ca90ade1ac28e64ac4cbac3f2982332b4f6db719af0e9acfb9e1d44405fc83ab9e979055fa877f802e8c4dab88c714b3b419d075227f6584cacf578f4b432a7207dfa8fc27645c04a2ee94d6f025cbfc3a286837345e9521f80fc3572\n"
     ]
    }
   ],
   "source": [
    "import shelve\n",
    "import hashlib, binascii\n",
    "from os import urandom\n",
    "\n",
    "def openShelve(name):\n",
    "    return shelve.open(name)\n",
    "def closeShelve(name2):\n",
    "    name2.close()\n",
    "    \n",
    "def getHashPassword(fun):\n",
    "    def hash_password(passW):\n",
    "        salt = hashlib.sha256(urandom(60)).hexdigest().encode('ascii')\n",
    "        pwdhash = hashlib.pbkdf2_hmac('sha512', passW.encode('utf-8'), salt, 100000)\n",
    "        pwdhash = binascii.hexlify(pwdhash)\n",
    "        \n",
    "        fun((salt + pwdhash).decode('ascii'))\n",
    "\n",
    "    return hash_password\n",
    "\n",
    "\n",
    "@getHashPassword\n",
    "def addPass(passW):\n",
    "    shelf = openShelve(\"myDb\")\n",
    "    \n",
    "    print(passW)\n",
    "    \n",
    "    closeShelve(shelf)\n",
    "    \n",
    "\n",
    "addPass(\"haslo\")\n",
    "# authorization(\"useer2\",\"mypassw\")"
   ]
  },
  {
   "cell_type": "code",
   "execution_count": null,
   "metadata": {},
   "outputs": [],
   "source": []
  }
 ],
 "metadata": {
  "kernelspec": {
   "display_name": "Python 3",
   "language": "python",
   "name": "python3"
  },
  "language_info": {
   "codemirror_mode": {
    "name": "ipython",
    "version": 3
   },
   "file_extension": ".py",
   "mimetype": "text/x-python",
   "name": "python",
   "nbconvert_exporter": "python",
   "pygments_lexer": "ipython3",
   "version": "3.8.5"
  }
 },
 "nbformat": 4,
 "nbformat_minor": 1
}
