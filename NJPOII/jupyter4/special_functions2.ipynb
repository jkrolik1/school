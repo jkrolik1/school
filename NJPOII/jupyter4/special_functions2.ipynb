{
 "cells": [
  {
   "cell_type": "markdown",
   "metadata": {
    "pycharm": {
     "name": "#%% md\n"
    }
   },
   "source": [
    "\n",
    "## Zadania do wykonania\n",
    "\n",
    "### Zadanie 1\n",
    "Napisz implementację drzewa wraz ze zdefiniowanymi operatorami jak:\n",
    "- `len` ma zwracać wysokość drzewa,\n",
    "- funkcja `count` ma zwracać liczbę wierzchołków,\n",
    "- operator potęgowania  `__pow__` (`t**2`) ma wstawić losowe wartości, aż funkcja `count` nie będzie zwracać potęgi liczby pierwotnej np. przed `count(t)=3`, `t**2, count(t)=3**2`.\n",
    "- iterator, który umożliwia przegląd wszystkich wierzchołków,\n",
    "- sprawdzenie czy element znajduje się w drzewie za pomocą operatora `in` i `__getitem__`,\n",
    "- zwrócić `False` jeśli drzewo jest puste oraz `True` w przeciwnym przypadku,\n",
    "- dodawać elementy za pomocą `__setitem__` oraz `__lshift__` (operator `t << elem`),\n",
    "- `str` ma zwracać narysowane drzewo,\n",
    "- (opcjonalne) plus ma zwracać nowe drzewo złożone z dwóch,\n",
    "- (opcjonalne) minus ma zwracać nowe drzewo będące różnicą."
   ]
  },
  {
   "cell_type": "code",
   "execution_count": 3,
   "metadata": {},
   "outputs": [],
   "source": [
    "class Tree:\n",
    "    def __len__(self):\n",
    "        return self.size\n",
    "    \n",
    "    def __count__(self):\n",
    "        return self.size\n",
    "    \n",
    "    def __pow__(self):\n",
    "        return self.size\n",
    "    \n",
    "    #def __iter__(self):\n",
    "    #    return self.size\n",
    "    \n",
    "    def __in__(self):              # ?????????????????????????????\n",
    "        return self.size\n",
    "    \n",
    "    #def __getitem__(self, position):\n",
    "    #    return self.size\n",
    "    \n",
    "    # __nonzero__ (???) jaka metoda do \"zwrócić False jeśli drzewo jest puste oraz True w przeciwnym przypadku\"\n",
    "    \n",
    "    def __setitem__(self, key, value):\n",
    "        return self.size\n",
    "    \n",
    "    def __lshift__(self, key, value):\n",
    "        return self.size\n",
    "    \n",
    "    def __str__(self):\n",
    "        return self.size\n",
    "    \n",
    "    def __add__(self):\n",
    "        return self.size\n",
    "    \n",
    "    def __sub__(self):\n",
    "        return self.size"
   ]
  },
  {
   "cell_type": "code",
   "execution_count": 112,
   "metadata": {},
   "outputs": [
    {
     "name": "stdout",
     "output_type": "stream",
     "text": [
      "Nie puste\n",
      "\n",
      "3\n",
      "6\n",
      "12\n",
      "14\n"
     ]
    },
    {
     "data": {
      "text/plain": [
       "'12 is found'"
      ]
     },
     "execution_count": 112,
     "metadata": {},
     "output_type": "execute_result"
    }
   ],
   "source": [
    "Tree = []\n",
    "\n",
    "class Node:\n",
    "    \n",
    "    def __init__(self, data):\n",
    "        self.left = None\n",
    "        self.right = None\n",
    "        self.data = data\n",
    "        \n",
    "    def __nonzero__(self):\n",
    "        return True if Tree else False     \n",
    "        \n",
    "    def __iter__(self):\n",
    "        root.PrintTree()\n",
    "        for i in Tree:\n",
    "            yield i\n",
    "    \n",
    "    def __getitem__(self, element):                              #dobre bez in!!!\n",
    "        if element < self.data:\n",
    "            if self.left is None:\n",
    "                return str(element)+\" Not Found\"\n",
    "            return self.left.__getitem__(element)\n",
    "        elif element > self.data:\n",
    "            if self.right is None:\n",
    "                return str(element)+\" Not Found\"\n",
    "            return self.right.__getitem__(element)\n",
    "        else:\n",
    "            return (str(self.data) + ' is found')\n",
    "            \n",
    "    def insert(self, data):\n",
    "        if self.data:\n",
    "            if data < self.data:\n",
    "                if self.left is None:\n",
    "                    self.left = Node(data)\n",
    "                else:\n",
    "                    self.left.insert(data)\n",
    "            elif data > self.data:\n",
    "                if self.right is None:\n",
    "                    self.right = Node(data)\n",
    "                else:\n",
    "                    self.right.insert(data)\n",
    "        else:\n",
    "            self.data = data\n",
    "            \n",
    "    def PrintTree(self):\n",
    "        if self.left:\n",
    "            self.left.PrintTree()\n",
    "        #print(self.data)\n",
    "        Tree.append(self.data)\n",
    "        if self.right:\n",
    "            self.right.PrintTree()   \n",
    "            \n",
    "root = Node(12)\n",
    "root.insert(6)\n",
    "root.insert(14)\n",
    "root.insert(3)\n",
    "\n",
    "\n",
    "if not root:\n",
    "    print('Puste\\n')\n",
    "else:\n",
    "    print('Nie puste\\n')\n",
    "    \n",
    "    \n",
    "for i in root:                      # __iter__\n",
    "    print(i)\n",
    "    \n",
    "    \n",
    "root[12]                             # __getitem__\n",
    "\n"
   ]
  },
  {
   "cell_type": "code",
   "execution_count": null,
   "metadata": {},
   "outputs": [],
   "source": []
  }
 ],
 "metadata": {
  "kernelspec": {
   "display_name": "Python 3",
   "language": "python",
   "name": "python3"
  },
  "language_info": {
   "codemirror_mode": {
    "name": "ipython",
    "version": 3
   },
   "file_extension": ".py",
   "mimetype": "text/x-python",
   "name": "python",
   "nbconvert_exporter": "python",
   "pygments_lexer": "ipython3",
   "version": "3.8.5"
  }
 },
 "nbformat": 4,
 "nbformat_minor": 1
}
