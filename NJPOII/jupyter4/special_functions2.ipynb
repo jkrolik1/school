{
 "cells": [
  {
   "cell_type": "markdown",
   "metadata": {
    "pycharm": {
     "name": "#%% md\n"
    }
   },
   "source": [
    "\n",
    "## Zadania do wykonania\n",
    "\n",
    "### Zadanie 1\n",
    "Napisz implementację drzewa wraz ze zdefiniowanymi operatorami jak:\n",
    "- `len` ma zwracać wysokość drzewa,\n",
    "- funkcja `count` ma zwracać liczbę wierzchołków,\n",
    "- operator potęgowania  `__pow__` (`t**2`) ma wstawić losowe wartości, aż funkcja `count` nie będzie zwracać potęgi liczby pierwotnej np. przed `count(t)=3`, `t**2, count(t)=3**2`.\n",
    "- iterator, który umożliwia przegląd wszystkich wierzchołków,\n",
    "- sprawdzenie czy element znajduje się w drzewie za pomocą operatora `in` i `__getitem__`,\n",
    "- zwrócić `False` jeśli drzewo jest puste oraz `True` w przeciwnym przypadku,\n",
    "- dodawać elementy za pomocą `__setitem__` oraz `__lshift__` (operator `t << elem`),\n",
    "- `str` ma zwracać narysowane drzewo,\n",
    "- (opcjonalne) plus ma zwracać nowe drzewo złożone z dwóch,\n",
    "- (opcjonalne) minus ma zwracać nowe drzewo będące różnicą."
   ]
  },
  {
   "cell_type": "code",
   "execution_count": 3,
   "metadata": {},
   "outputs": [],
   "source": [
    "class Tree:\n",
    "    def __len__(self):\n",
    "        return self.size\n",
    "    def __count__(self):\n",
    "        return self.size\n",
    "    def __pow__(self):\n",
    "        return self.size\n",
    "    def __iter__(self):\n",
    "        return self.size\n",
    "    def __in__(self):              # ?????????????????????????????\n",
    "        return self.size\n",
    "    def __getitem__(self, position):\n",
    "        return self.size\n",
    "    # jaka metoda do \"zwrócić False jeśli drzewo jest puste oraz True w przeciwnym przypadku\"\n",
    "    def __setitem__(self, key, value):\n",
    "        return self.size\n",
    "    def __lshift__(self, key, value):\n",
    "        return self.size\n",
    "    def __str__(self):\n",
    "        return self.size\n",
    "    def __add__(self):                   # czy to jest operator plus?\n",
    "        return self.size\n",
    "    def __sub__(self):\n",
    "        return self.size                    # czy to jest operator minus?"
   ]
  },
  {
   "cell_type": "code",
   "execution_count": null,
   "metadata": {},
   "outputs": [],
   "source": []
  }
 ],
 "metadata": {
  "kernelspec": {
   "display_name": "Python 3",
   "language": "python",
   "name": "python3"
  },
  "language_info": {
   "codemirror_mode": {
    "name": "ipython",
    "version": 3
   },
   "file_extension": ".py",
   "mimetype": "text/x-python",
   "name": "python",
   "nbconvert_exporter": "python",
   "pygments_lexer": "ipython3",
   "version": "3.8.5"
  }
 },
 "nbformat": 4,
 "nbformat_minor": 1
}
