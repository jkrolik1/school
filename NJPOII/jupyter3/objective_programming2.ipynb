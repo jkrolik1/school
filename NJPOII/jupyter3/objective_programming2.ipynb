{
 "cells": [
  {
   "cell_type": "markdown",
   "metadata": {
    "pycharm": {
     "name": "#%% md\n"
    }
   },
   "source": [
    "## Zadania do wykonania\n",
    "\n",
    "### Zadanie 1. Zaprojektuj klasę dla $kd$-drzewa.\n",
    "\n",
    "### Zadanie 2. Zaimplementuj wzorzec projektowy łańcuch odpowiedzialności na przykładzie obsługi żądania _http_ (symulacja), w którym przed faktycznym kodem obsługi błędu ma zostać sprawdzone czy użytkownik może wysłać danego typu żądanie, czy żądanie nie dotyczy pliku, czy liczba żądań na minutę nie jest przekroczona, czy liczba żądań na minutę nie jest przekroczona dla zalogowanego użytkownika, czy przesłany formularz nie jest próbą `sql incjection`.\n",
    "\n",
    "### Zadanie 3. Za pomocą dowolnego wzorca projektowego zaimplementuj mechanizm sprawdzający poprawność wyrażenia postaci:\n",
    "* a + b = c (poprawne),\n",
    "* (a + b = c (niepoprawne),\n",
    "* a + = c (niepoprawne)."
   ]
  },
  {
   "cell_type": "code",
   "execution_count": 17,
   "metadata": {},
   "outputs": [
    {
     "name": "stdout",
     "output_type": "stream",
     "text": [
      "((5, 4),\n",
      " ((1, 4), ((1, 3), None, None), None),\n",
      " ((7, 7), ((8, 0), None, None), None))\n"
     ]
    }
   ],
   "source": [
    "# zadanie 1\n",
    "\n",
    "from collections import namedtuple \n",
    "from operator import itemgetter \n",
    "from pprint import pformat\n",
    "\n",
    "class Tree(namedtuple(\"Tree\", \"loc left right\")): \n",
    "    def __repr__(self): \n",
    "        return pformat(tuple(self))\n",
    "    \n",
    "def kdtree(kdList, deep = 0):\n",
    "    if not kdList:\n",
    "        return None\n",
    "    pivot = deep % len(kdList[0])\n",
    "    kdList.sort(key=itemgetter(pivot))\n",
    "    med = len(kdList) // 2 \n",
    "    return Tree(\n",
    "        loc=kdList[med],\n",
    "        left=kdtree(kdList[:med], deep + 1),\n",
    "        right=kdtree(kdList[med + 1 :], deep + 1)\n",
    "    )\n",
    "\n",
    "\n",
    "print(kdtree([(8, 0), (1, 4), (7, 7), (1, 3), (5, 4)]))"
   ]
  },
  {
   "cell_type": "code",
   "execution_count": null,
   "metadata": {},
   "outputs": [],
   "source": [
    "https://refactoring.guru/pl/design-patterns/chain-of-responsibility/python/example\n"
   ]
  },
  {
   "cell_type": "code",
   "execution_count": 94,
   "metadata": {},
   "outputs": [
    {
     "name": "stdout",
     "output_type": "stream",
     "text": [
      "3\n",
      "1\n",
      "True\n"
     ]
    }
   ],
   "source": [
    "# facade\n",
    "\n",
    "\n",
    "class Variables:\n",
    "    \n",
    "    def __init__(self,form):\n",
    "        self.x = form\n",
    "    \n",
    "    def checkSize(self):\n",
    "        lenx = 0\n",
    "        for str in self.x:\n",
    "            if str.isalpha():\n",
    "                lenx += 1\n",
    "                \n",
    "        return lenx;\n",
    "    \n",
    "    \n",
    "class Signs:\n",
    "    \n",
    "    def __init__(self,form):\n",
    "        self.x = form\n",
    "    \n",
    "    def checkSize(self):\n",
    "        lenx = 0\n",
    "        for str in self.x:\n",
    "            if (str=='+' or str=='-' or str=='/' or str=='*'):\n",
    "                lenx += 1\n",
    "                \n",
    "        return lenx;\n",
    "\n",
    "    \n",
    "class Conditions:\n",
    "    \n",
    "    \n",
    "    def __init__(self,form):\n",
    "        self.x = form\n",
    "        self.noneBrackets = ''\n",
    "        \n",
    "    def newForm(self):\n",
    "        for str in self.x:\n",
    "            if not(str=='(' or str==')' or str=='[' or str==']' or str=='{' or str=='}'):\n",
    "                self.noneBrackets += str \n",
    "        return self.noneBrackets;\n",
    "    \n",
    "    def checkPlaces(self):\n",
    "        y = self.newForm()\n",
    "        for ele in range(0, len(y)):\n",
    "            if ((y[ele].isalpha()) and (ele % 2 == 0)):\n",
    "                continue\n",
    "            elif ((y[ele]=='+' or y[ele]=='-' or y[ele]=='/' or y[ele]=='*' or y[ele]=='=') and (ele % 2 != 0)):\n",
    "                continue\n",
    "            else:\n",
    "                return False\n",
    "        return True\n",
    "    \n",
    "#class Equal:\n",
    "    \n",
    "    \n",
    "        \n",
    "        \n",
    "class Equation:\n",
    "\n",
    "    def __init__(self,form):\n",
    "        self.var = Variables(form)\n",
    "        self.sign = Signs(form)\n",
    "        self.cond = Conditions(form)\n",
    "        #self.eq = Equal(form)\n",
    "    \n",
    "    def start(self):\n",
    "        print(self.var.checkSize())\n",
    "        print(self.sign.checkSize())\n",
    "        print(self.cond.checkPlaces())\n",
    "        \n",
    "        \n",
    "    \n",
    "\n",
    "        \n",
    "equ1 = Equation('a+b=c')\n",
    "equ1.start()"
   ]
  },
  {
   "cell_type": "code",
   "execution_count": null,
   "metadata": {},
   "outputs": [],
   "source": []
  }
 ],
 "metadata": {
  "kernelspec": {
   "display_name": "Python 3",
   "language": "python",
   "name": "python3"
  },
  "language_info": {
   "codemirror_mode": {
    "name": "ipython",
    "version": 3
   },
   "file_extension": ".py",
   "mimetype": "text/x-python",
   "name": "python",
   "nbconvert_exporter": "python",
   "pygments_lexer": "ipython3",
   "version": "3.8.6"
  }
 },
 "nbformat": 4,
 "nbformat_minor": 1
}
