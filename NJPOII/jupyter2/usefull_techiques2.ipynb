{
 "cells": [
  {
   "cell_type": "markdown",
   "metadata": {
    "pycharm": {
     "name": "#%% md\n"
    }
   },
   "source": [
    "# Zadania do wykonania\n",
    "\n",
    "1. Porównaj zapisywanie i odczytywanie kolekcji (100, 10000, 100 000 elementów) za pomocą trzech technik: modułu `pickle`, `parquet` i `xlsx`.\n",
    "\n",
    "2. Zbadaj przyspieszenie związane z zastosowaniem pamięci podręcznej na wybranych przykładzie funkcji rekurencyjnej (np. ciągu _Fibonacciego_.\n",
    "\n",
    "3. Napisz program tworzący bazę danych z interfejsem konsolowym. Wymagane są następujące operacje, dodanie wiersza, usunięcie wiersza, zmiana pola wiersza, wyświetlenie opcji. Menu można zorganizować jako odczytywanie parametrów zwróconych przez funkcję `input` lub z pomocą komend (łatwiejszy sposób)."
   ]
  },
  {
   "cell_type": "code",
   "execution_count": 89,
   "metadata": {},
   "outputs": [
    {
     "name": "stdout",
     "output_type": "stream",
     "text": [
      "For 10th element:\n",
      "Time fib normal:  4.100799560546875e-05 s\n",
      "Time fib cache:  1.52587890625e-05 s\n",
      "Cache is 2.6875 times faster\n",
      "\n",
      "\n",
      "For 20th element:\n",
      "Time fib normal:  0.010749101638793945 s\n",
      "Time fib cache:  1.5497207641601562e-05 s\n",
      "Cache is 693.6153846153846 times faster\n",
      "\n",
      "\n",
      "For 30th element:\n",
      "Time fib normal:  0.6121826171875 s\n",
      "Time fib cache:  2.2411346435546875e-05 s\n",
      "Cache is 27315.744680851065 times faster\n",
      "\n",
      "\n",
      "For 34th element:\n",
      "Time fib normal:  3.995593786239624 s\n",
      "Time fib cache:  8.106231689453125e-06 s\n",
      "Cache is 492903.9705882353 times faster\n",
      "\n",
      "\n"
     ]
    }
   ],
   "source": [
    "# zadanie 2\n",
    "\n",
    "import time\n",
    "from functools import lru_cache, cached_property\n",
    "\n",
    "\n",
    "# Recursive algorithm for fibbonacci\n",
    "def fib(n):\n",
    "    if n <= 1:\n",
    "        return n\n",
    "    else:\n",
    "        return(fib(n-1) + fib(n-2))\n",
    "        \n",
    "        \n",
    "@lru_cache(maxsize=100)\n",
    "def func_lru_cached(a: int):\n",
    "    if a <= 1:\n",
    "        return a\n",
    "    else:\n",
    "        return(func_lru_cached(a-1) + func_lru_cached(a-2))        \n",
    "       \n",
    "\n",
    "def exec(number):\n",
    "    start = time.time()\n",
    "    fib(number)\n",
    "    end = time.time()\n",
    "    result = end - start\n",
    "    print(\"Time fib normal: \",result,\"s\")\n",
    "\n",
    "    start2 = time.time()\n",
    "    func_lru_cached(number-1)\n",
    "    end2 = time.time()\n",
    "    result2 = end2 - start2\n",
    "    print(\"Time fib cache: \",end2 - start2,\"s\")\n",
    "\n",
    "    print(f'Cache is {result/result2} times faster\\n\\n')\n",
    "\n",
    "    \n",
    " \n",
    "print(\"For 10th element:\")\n",
    "exec(10)\n",
    "\n",
    "print(\"For 20th element:\")\n",
    "exec(20)\n",
    "\n",
    "print(\"For 30th element:\")\n",
    "exec(30)\n",
    "\n",
    "print(\"For 34th element:\")\n",
    "exec(34)"
   ]
  }
 ],
 "metadata": {
  "kernelspec": {
   "display_name": "Python 3",
   "language": "python",
   "name": "python3"
  },
  "language_info": {
   "codemirror_mode": {
    "name": "ipython",
    "version": 3
   },
   "file_extension": ".py",
   "mimetype": "text/x-python",
   "name": "python",
   "nbconvert_exporter": "python",
   "pygments_lexer": "ipython3",
   "version": "3.8.5"
  }
 },
 "nbformat": 4,
 "nbformat_minor": 1
}
